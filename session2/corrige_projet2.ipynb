{
 "cells": [
  {
   "cell_type": "markdown",
   "metadata": {},
   "source": [
    "\n",
    "# Projet 2"
   ]
  },
  {
   "cell_type": "code",
   "execution_count": null,
   "metadata": {
    "scrolled": false
   },
   "outputs": [],
   "source": [
    "# import des modules usuels\n",
    "import numpy as np\n",
    "import pandas as pd\n",
    "\n",
    "# options d'affichage\n",
    "pd.set_option(\"display.min_rows\", 16)"
   ]
  },
  {
   "cell_type": "code",
   "execution_count": null,
   "metadata": {
    "scrolled": true
   },
   "outputs": [],
   "source": [
    "# chargement et traitement des données\n",
    "geo = pd.read_csv(\"correspondance-code-insee-code-postal.csv\",\n",
    "                   sep=';',\n",
    "                   usecols=range(11),\n",
    "                   index_col=\"Code INSEE\")\n",
    "geo = geo.sort_index()\n",
    "geo[['Latitude', 'Longitude']] = geo[\"geo_point_2d\"].str.extract(\"(.*), (.*)\").astype(float)\n",
    "geo.head()"
   ]
  },
  {
   "cell_type": "markdown",
   "metadata": {},
   "source": [
    "**Projet maison n° 1**\n",
    "\n",
    "- Ajoutez une colonne 'CP Ville' avec le Code postal + un espace + et le nom de la Ville.\n",
    "- Ecrivez une fonction qui détermine la commune la plus proche d'un point à partir de sa latitude et sa longitude.\n",
    "- Ajoutez une fonction de conversion pour pouvoir utiliser la première fonction avec un GPS (degrés, minutes, secondes)."
   ]
  },
  {
   "cell_type": "code",
   "execution_count": null,
   "metadata": {},
   "outputs": [],
   "source": [
    "geo['CP Ville'] = geo['Code Postal'] + ' ' + geo['Commune']"
   ]
  },
  {
   "cell_type": "code",
   "execution_count": null,
   "metadata": {
    "scrolled": false
   },
   "outputs": [],
   "source": [
    "# fonction recherche de ville\n",
    "def ville(lat, long):\n",
    "    dist = np.sqrt(((geo['Latitude']-lat)**2 + (geo['Longitude']-long)**2))\n",
    "    return geo.loc[dist.idxmin(), 'CP Ville']"
   ]
  },
  {
   "cell_type": "code",
   "execution_count": null,
   "metadata": {
    "scrolled": false
   },
   "outputs": [],
   "source": [
    "# fonction recherche de ville\n",
    "def ville(lat, long):\n",
    "    dist2 = ((geo['Latitude']-lat) ** 2 + (geo['Longitude']-long) ** 2)\n",
    "    return geo.loc[dist2.idxmin(), 'CP Ville']"
   ]
  },
  {
   "cell_type": "code",
   "execution_count": null,
   "metadata": {
    "scrolled": false
   },
   "outputs": [],
   "source": [
    "# on applique la fonction à une coordonnée tirée au hasard\n",
    "np.random.seed(0)\n",
    "a, b = 41.5, 51.1  # latitude min et max de la France métropolitaine\n",
    "lat = (b - a) * np.random.random() + a\n",
    "a, b = -5.1, 9.5  # longitude min et max de la France métropolitaine\n",
    "long = (b - a) * np.random.random() + a\n",
    "\n",
    "ville(lat, long)"
   ]
  },
  {
   "cell_type": "code",
   "execution_count": null,
   "metadata": {
    "scrolled": false
   },
   "outputs": [],
   "source": [
    "# conversion degrés, minutes, secondes => décimal\n",
    "def dms2dec(deg, mn, sec):\n",
    "    return deg + mn / 60 + sec / 3600"
   ]
  },
  {
   "cell_type": "code",
   "execution_count": null,
   "metadata": {
    "scrolled": false
   },
   "outputs": [],
   "source": [
    "# à partir de coordonnées GPS précises\n",
    "ville(dms2dec(48, 42, 52), dms2dec(2, 14, 45))"
   ]
  },
  {
   "cell_type": "code",
   "execution_count": null,
   "metadata": {
    "scrolled": false
   },
   "outputs": [],
   "source": [
    "# à partir de coordonnées GPS précises\n",
    "ville(dms2dec(, , ), dms2dec(, , ))"
   ]
  },
  {
   "cell_type": "markdown",
   "metadata": {},
   "source": [
    "**Projet maison n° 2**\n",
    "\n",
    "La colonne \"geo_shape\" comporte des chaines de catactères au format JSON. Elles représentent les formes géométriques des communes qui sont soit des polygones soit composées de plusieurs polygones.\n",
    "\n",
    "- Utiliser la librairie Python json pour parser la colonne \"geo_shape\".\n",
    "- Donner le décompte des valeurs accédées avec la clé \"type\".\n",
    "- Donner le décompte des longueurs des listes accédées avec la clé \"coordinates\".\n",
    "- Quelle commune est la plus complexe géométriquement ?\n",
    "- Quelle commune est la seconde la plus complexe géométriquement ?\n",
    "- Quelles sont les villes qui sont de type \"Polygon\" mais dont la longueur des listes accédées avec la clé \"coordinates\" vaut 2 ?\n",
    "- Pour ces villes vérifier que le premier polygone contient bien le second (enclave). NB : installer la librairie shapely, utiliser la classe Polygon de shapely.geometry. Sur Windows shapely peut nécessiter d'installer la dll \"geos_c.dll\" dans le répertoire \"Library/bin\" de votre environnement Python."
   ]
  },
  {
   "cell_type": "code",
   "execution_count": null,
   "metadata": {},
   "outputs": [],
   "source": [
    "import json\n",
    "\n",
    "geo_shape = geo['geo_shape'].apply(json.loads)\n",
    "geo_shape"
   ]
  },
  {
   "cell_type": "code",
   "execution_count": null,
   "metadata": {},
   "outputs": [],
   "source": [
    "geo_shape.apply(lambda x: x['type']).value_counts()"
   ]
  },
  {
   "cell_type": "code",
   "execution_count": null,
   "metadata": {},
   "outputs": [],
   "source": [
    "geo_shape.apply(lambda x: x['coordinates']).apply(len).value_counts()"
   ]
  },
  {
   "cell_type": "code",
   "execution_count": null,
   "metadata": {},
   "outputs": [],
   "source": [
    "geo.loc[geo_shape.apply(lambda x: x['coordinates']).apply(len).idxmax(), 'CP Ville']"
   ]
  },
  {
   "cell_type": "code",
   "execution_count": null,
   "metadata": {},
   "outputs": [],
   "source": [
    "geo.loc[geo_shape.apply(lambda x: x['coordinates']).apply(len)==3, 'CP Ville']"
   ]
  },
  {
   "cell_type": "code",
   "execution_count": null,
   "metadata": {},
   "outputs": [],
   "source": [
    "geo.loc[geo_shape.apply(lambda x: x['type']=='Polygon')\n",
    "        & (geo_shape.apply(lambda x: x['coordinates']).apply(len)==2), 'CP Ville']"
   ]
  },
  {
   "cell_type": "code",
   "execution_count": null,
   "metadata": {},
   "outputs": [],
   "source": [
    "from shapely.geometry import Polygon\n",
    "\n",
    "def test_enclave(coordinates):\n",
    "    if len(coordinates) != 2:\n",
    "        return False\n",
    "    return Polygon(coordinates[0]).contains(Polygon(coordinates[1]))\n",
    "\n",
    "selection = geo_shape.loc[geo_shape.apply(lambda x: x['type']=='Polygon') &\n",
    "                          (geo_shape.apply(lambda x: x['coordinates']).apply(len)==2)]\n",
    "selection.apply(lambda x: test_enclave(x['coordinates'])).all()"
   ]
  }
 ],
 "metadata": {
  "anaconda-cloud": {},
  "kernelspec": {
   "display_name": "Python 3",
   "language": "python",
   "name": "python3"
  },
  "language_info": {
   "codemirror_mode": {
    "name": "ipython",
    "version": 3
   },
   "file_extension": ".py",
   "mimetype": "text/x-python",
   "name": "python",
   "nbconvert_exporter": "python",
   "pygments_lexer": "ipython3",
   "version": "3.8.3"
  }
 },
 "nbformat": 4,
 "nbformat_minor": 1
}
